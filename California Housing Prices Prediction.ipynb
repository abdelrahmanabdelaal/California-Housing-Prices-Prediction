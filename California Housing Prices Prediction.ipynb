{
 "cells": [
  {
   "cell_type": "markdown",
   "id": "c2819cfe",
   "metadata": {},
   "source": [
    "\n",
    "# California Housing Prices Prediction\n",
    "\n"
   ]
  },
  {
   "cell_type": "markdown",
   "id": "f1582a30",
   "metadata": {
    "heading_collapsed": true
   },
   "source": [
    "# Required libraries"
   ]
  },
  {
   "cell_type": "code",
   "execution_count": 1,
   "id": "bda93317",
   "metadata": {
    "hidden": true
   },
   "outputs": [],
   "source": [
    "import numpy as np\n",
    "import pandas as pd\n",
    "import matplotlib.pyplot as plt\n",
    "import gradio as gr\n",
    "import joblib\n",
    "from sklearn.linear_model import LinearRegression\n",
    "from sklearn.tree import DecisionTreeRegressor\n",
    "from sklearn.ensemble import RandomForestRegressor\n",
    "from sklearn.model_selection import StratifiedShuffleSplit\n",
    "from sklearn.impute import SimpleImputer\n",
    "from sklearn.pipeline import Pipeline\n",
    "from sklearn.compose import ColumnTransformer\n",
    "from sklearn.preprocessing import StandardScaler\n",
    "from sklearn.preprocessing import OneHotEncoder\n",
    "from sklearn.metrics import mean_squared_error\n",
    "from sklearn.model_selection import cross_val_score\n",
    "from sklearn.model_selection import RandomizedSearchCV"
   ]
  },
  {
   "cell_type": "markdown",
   "id": "ed7c6541",
   "metadata": {
    "heading_collapsed": true
   },
   "source": [
    "# Read Data"
   ]
  },
  {
   "cell_type": "code",
   "execution_count": 2,
   "id": "e22b6f59",
   "metadata": {
    "hidden": true
   },
   "outputs": [],
   "source": [
    "housing = pd.read_csv('housing.csv')"
   ]
  },
  {
   "cell_type": "markdown",
   "id": "1e420689",
   "metadata": {
    "heading_collapsed": true
   },
   "source": [
    "# Exploring Data "
   ]
  },
  {
   "cell_type": "code",
   "execution_count": 3,
   "id": "1f0a6713",
   "metadata": {
    "hidden": true
   },
   "outputs": [
    {
     "data": {
      "text/html": [
       "<div>\n",
       "<style scoped>\n",
       "    .dataframe tbody tr th:only-of-type {\n",
       "        vertical-align: middle;\n",
       "    }\n",
       "\n",
       "    .dataframe tbody tr th {\n",
       "        vertical-align: top;\n",
       "    }\n",
       "\n",
       "    .dataframe thead th {\n",
       "        text-align: right;\n",
       "    }\n",
       "</style>\n",
       "<table border=\"1\" class=\"dataframe\">\n",
       "  <thead>\n",
       "    <tr style=\"text-align: right;\">\n",
       "      <th></th>\n",
       "      <th>longitude</th>\n",
       "      <th>latitude</th>\n",
       "      <th>housing_median_age</th>\n",
       "      <th>total_rooms</th>\n",
       "      <th>total_bedrooms</th>\n",
       "      <th>population</th>\n",
       "      <th>households</th>\n",
       "      <th>median_income</th>\n",
       "      <th>median_house_value</th>\n",
       "      <th>ocean_proximity</th>\n",
       "    </tr>\n",
       "  </thead>\n",
       "  <tbody>\n",
       "    <tr>\n",
       "      <th>0</th>\n",
       "      <td>-122.23</td>\n",
       "      <td>37.88</td>\n",
       "      <td>41.0</td>\n",
       "      <td>880.0</td>\n",
       "      <td>129.0</td>\n",
       "      <td>322.0</td>\n",
       "      <td>126.0</td>\n",
       "      <td>8.3252</td>\n",
       "      <td>452600.0</td>\n",
       "      <td>NEAR BAY</td>\n",
       "    </tr>\n",
       "    <tr>\n",
       "      <th>1</th>\n",
       "      <td>-122.22</td>\n",
       "      <td>37.86</td>\n",
       "      <td>21.0</td>\n",
       "      <td>7099.0</td>\n",
       "      <td>1106.0</td>\n",
       "      <td>2401.0</td>\n",
       "      <td>1138.0</td>\n",
       "      <td>8.3014</td>\n",
       "      <td>358500.0</td>\n",
       "      <td>NEAR BAY</td>\n",
       "    </tr>\n",
       "    <tr>\n",
       "      <th>2</th>\n",
       "      <td>-122.24</td>\n",
       "      <td>37.85</td>\n",
       "      <td>52.0</td>\n",
       "      <td>1467.0</td>\n",
       "      <td>190.0</td>\n",
       "      <td>496.0</td>\n",
       "      <td>177.0</td>\n",
       "      <td>7.2574</td>\n",
       "      <td>352100.0</td>\n",
       "      <td>NEAR BAY</td>\n",
       "    </tr>\n",
       "    <tr>\n",
       "      <th>3</th>\n",
       "      <td>-122.25</td>\n",
       "      <td>37.85</td>\n",
       "      <td>52.0</td>\n",
       "      <td>1274.0</td>\n",
       "      <td>235.0</td>\n",
       "      <td>558.0</td>\n",
       "      <td>219.0</td>\n",
       "      <td>5.6431</td>\n",
       "      <td>341300.0</td>\n",
       "      <td>NEAR BAY</td>\n",
       "    </tr>\n",
       "    <tr>\n",
       "      <th>4</th>\n",
       "      <td>-122.25</td>\n",
       "      <td>37.85</td>\n",
       "      <td>52.0</td>\n",
       "      <td>1627.0</td>\n",
       "      <td>280.0</td>\n",
       "      <td>565.0</td>\n",
       "      <td>259.0</td>\n",
       "      <td>3.8462</td>\n",
       "      <td>342200.0</td>\n",
       "      <td>NEAR BAY</td>\n",
       "    </tr>\n",
       "  </tbody>\n",
       "</table>\n",
       "</div>"
      ],
      "text/plain": [
       "   longitude  latitude  housing_median_age  total_rooms  total_bedrooms  \\\n",
       "0    -122.23     37.88                41.0        880.0           129.0   \n",
       "1    -122.22     37.86                21.0       7099.0          1106.0   \n",
       "2    -122.24     37.85                52.0       1467.0           190.0   \n",
       "3    -122.25     37.85                52.0       1274.0           235.0   \n",
       "4    -122.25     37.85                52.0       1627.0           280.0   \n",
       "\n",
       "   population  households  median_income  median_house_value ocean_proximity  \n",
       "0       322.0       126.0         8.3252            452600.0        NEAR BAY  \n",
       "1      2401.0      1138.0         8.3014            358500.0        NEAR BAY  \n",
       "2       496.0       177.0         7.2574            352100.0        NEAR BAY  \n",
       "3       558.0       219.0         5.6431            341300.0        NEAR BAY  \n",
       "4       565.0       259.0         3.8462            342200.0        NEAR BAY  "
      ]
     },
     "execution_count": 3,
     "metadata": {},
     "output_type": "execute_result"
    }
   ],
   "source": [
    "housing.head()"
   ]
  },
  {
   "cell_type": "code",
   "execution_count": 4,
   "id": "1569345d",
   "metadata": {
    "hidden": true
   },
   "outputs": [
    {
     "name": "stdout",
     "output_type": "stream",
     "text": [
      "<class 'pandas.core.frame.DataFrame'>\n",
      "RangeIndex: 20640 entries, 0 to 20639\n",
      "Data columns (total 10 columns):\n",
      " #   Column              Non-Null Count  Dtype  \n",
      "---  ------              --------------  -----  \n",
      " 0   longitude           20640 non-null  float64\n",
      " 1   latitude            20640 non-null  float64\n",
      " 2   housing_median_age  20640 non-null  float64\n",
      " 3   total_rooms         20640 non-null  float64\n",
      " 4   total_bedrooms      20433 non-null  float64\n",
      " 5   population          20640 non-null  float64\n",
      " 6   households          20640 non-null  float64\n",
      " 7   median_income       20640 non-null  float64\n",
      " 8   median_house_value  20640 non-null  float64\n",
      " 9   ocean_proximity     20640 non-null  object \n",
      "dtypes: float64(9), object(1)\n",
      "memory usage: 1.6+ MB\n"
     ]
    }
   ],
   "source": [
    "housing.info()"
   ]
  },
  {
   "cell_type": "code",
   "execution_count": 5,
   "id": "ec7f808a",
   "metadata": {
    "hidden": true
   },
   "outputs": [
    {
     "data": {
      "text/html": [
       "<div>\n",
       "<style scoped>\n",
       "    .dataframe tbody tr th:only-of-type {\n",
       "        vertical-align: middle;\n",
       "    }\n",
       "\n",
       "    .dataframe tbody tr th {\n",
       "        vertical-align: top;\n",
       "    }\n",
       "\n",
       "    .dataframe thead th {\n",
       "        text-align: right;\n",
       "    }\n",
       "</style>\n",
       "<table border=\"1\" class=\"dataframe\">\n",
       "  <thead>\n",
       "    <tr style=\"text-align: right;\">\n",
       "      <th></th>\n",
       "      <th>longitude</th>\n",
       "      <th>latitude</th>\n",
       "      <th>housing_median_age</th>\n",
       "      <th>total_rooms</th>\n",
       "      <th>total_bedrooms</th>\n",
       "      <th>population</th>\n",
       "      <th>households</th>\n",
       "      <th>median_income</th>\n",
       "      <th>median_house_value</th>\n",
       "    </tr>\n",
       "  </thead>\n",
       "  <tbody>\n",
       "    <tr>\n",
       "      <th>count</th>\n",
       "      <td>20640.000000</td>\n",
       "      <td>20640.000000</td>\n",
       "      <td>20640.000000</td>\n",
       "      <td>20640.000000</td>\n",
       "      <td>20433.000000</td>\n",
       "      <td>20640.000000</td>\n",
       "      <td>20640.000000</td>\n",
       "      <td>20640.000000</td>\n",
       "      <td>20640.000000</td>\n",
       "    </tr>\n",
       "    <tr>\n",
       "      <th>mean</th>\n",
       "      <td>-119.569704</td>\n",
       "      <td>35.631861</td>\n",
       "      <td>28.639486</td>\n",
       "      <td>2635.763081</td>\n",
       "      <td>537.870553</td>\n",
       "      <td>1425.476744</td>\n",
       "      <td>499.539680</td>\n",
       "      <td>3.870671</td>\n",
       "      <td>206855.816909</td>\n",
       "    </tr>\n",
       "    <tr>\n",
       "      <th>std</th>\n",
       "      <td>2.003532</td>\n",
       "      <td>2.135952</td>\n",
       "      <td>12.585558</td>\n",
       "      <td>2181.615252</td>\n",
       "      <td>421.385070</td>\n",
       "      <td>1132.462122</td>\n",
       "      <td>382.329753</td>\n",
       "      <td>1.899822</td>\n",
       "      <td>115395.615874</td>\n",
       "    </tr>\n",
       "    <tr>\n",
       "      <th>min</th>\n",
       "      <td>-124.350000</td>\n",
       "      <td>32.540000</td>\n",
       "      <td>1.000000</td>\n",
       "      <td>2.000000</td>\n",
       "      <td>1.000000</td>\n",
       "      <td>3.000000</td>\n",
       "      <td>1.000000</td>\n",
       "      <td>0.499900</td>\n",
       "      <td>14999.000000</td>\n",
       "    </tr>\n",
       "    <tr>\n",
       "      <th>25%</th>\n",
       "      <td>-121.800000</td>\n",
       "      <td>33.930000</td>\n",
       "      <td>18.000000</td>\n",
       "      <td>1447.750000</td>\n",
       "      <td>296.000000</td>\n",
       "      <td>787.000000</td>\n",
       "      <td>280.000000</td>\n",
       "      <td>2.563400</td>\n",
       "      <td>119600.000000</td>\n",
       "    </tr>\n",
       "    <tr>\n",
       "      <th>50%</th>\n",
       "      <td>-118.490000</td>\n",
       "      <td>34.260000</td>\n",
       "      <td>29.000000</td>\n",
       "      <td>2127.000000</td>\n",
       "      <td>435.000000</td>\n",
       "      <td>1166.000000</td>\n",
       "      <td>409.000000</td>\n",
       "      <td>3.534800</td>\n",
       "      <td>179700.000000</td>\n",
       "    </tr>\n",
       "    <tr>\n",
       "      <th>75%</th>\n",
       "      <td>-118.010000</td>\n",
       "      <td>37.710000</td>\n",
       "      <td>37.000000</td>\n",
       "      <td>3148.000000</td>\n",
       "      <td>647.000000</td>\n",
       "      <td>1725.000000</td>\n",
       "      <td>605.000000</td>\n",
       "      <td>4.743250</td>\n",
       "      <td>264725.000000</td>\n",
       "    </tr>\n",
       "    <tr>\n",
       "      <th>max</th>\n",
       "      <td>-114.310000</td>\n",
       "      <td>41.950000</td>\n",
       "      <td>52.000000</td>\n",
       "      <td>39320.000000</td>\n",
       "      <td>6445.000000</td>\n",
       "      <td>35682.000000</td>\n",
       "      <td>6082.000000</td>\n",
       "      <td>15.000100</td>\n",
       "      <td>500001.000000</td>\n",
       "    </tr>\n",
       "  </tbody>\n",
       "</table>\n",
       "</div>"
      ],
      "text/plain": [
       "          longitude      latitude  housing_median_age   total_rooms  \\\n",
       "count  20640.000000  20640.000000        20640.000000  20640.000000   \n",
       "mean    -119.569704     35.631861           28.639486   2635.763081   \n",
       "std        2.003532      2.135952           12.585558   2181.615252   \n",
       "min     -124.350000     32.540000            1.000000      2.000000   \n",
       "25%     -121.800000     33.930000           18.000000   1447.750000   \n",
       "50%     -118.490000     34.260000           29.000000   2127.000000   \n",
       "75%     -118.010000     37.710000           37.000000   3148.000000   \n",
       "max     -114.310000     41.950000           52.000000  39320.000000   \n",
       "\n",
       "       total_bedrooms    population    households  median_income  \\\n",
       "count    20433.000000  20640.000000  20640.000000   20640.000000   \n",
       "mean       537.870553   1425.476744    499.539680       3.870671   \n",
       "std        421.385070   1132.462122    382.329753       1.899822   \n",
       "min          1.000000      3.000000      1.000000       0.499900   \n",
       "25%        296.000000    787.000000    280.000000       2.563400   \n",
       "50%        435.000000   1166.000000    409.000000       3.534800   \n",
       "75%        647.000000   1725.000000    605.000000       4.743250   \n",
       "max       6445.000000  35682.000000   6082.000000      15.000100   \n",
       "\n",
       "       median_house_value  \n",
       "count        20640.000000  \n",
       "mean        206855.816909  \n",
       "std         115395.615874  \n",
       "min          14999.000000  \n",
       "25%         119600.000000  \n",
       "50%         179700.000000  \n",
       "75%         264725.000000  \n",
       "max         500001.000000  "
      ]
     },
     "execution_count": 5,
     "metadata": {},
     "output_type": "execute_result"
    }
   ],
   "source": [
    "housing.describe()"
   ]
  },
  {
   "cell_type": "code",
   "execution_count": 6,
   "id": "8bbe18c7",
   "metadata": {
    "hidden": true
   },
   "outputs": [
    {
     "data": {
      "text/html": [
       "<div>\n",
       "<style scoped>\n",
       "    .dataframe tbody tr th:only-of-type {\n",
       "        vertical-align: middle;\n",
       "    }\n",
       "\n",
       "    .dataframe tbody tr th {\n",
       "        vertical-align: top;\n",
       "    }\n",
       "\n",
       "    .dataframe thead th {\n",
       "        text-align: right;\n",
       "    }\n",
       "</style>\n",
       "<table border=\"1\" class=\"dataframe\">\n",
       "  <thead>\n",
       "    <tr style=\"text-align: right;\">\n",
       "      <th></th>\n",
       "      <th>longitude</th>\n",
       "      <th>latitude</th>\n",
       "      <th>housing_median_age</th>\n",
       "      <th>total_rooms</th>\n",
       "      <th>total_bedrooms</th>\n",
       "      <th>population</th>\n",
       "      <th>households</th>\n",
       "      <th>median_income</th>\n",
       "      <th>median_house_value</th>\n",
       "    </tr>\n",
       "  </thead>\n",
       "  <tbody>\n",
       "    <tr>\n",
       "      <th>longitude</th>\n",
       "      <td>1.000000</td>\n",
       "      <td>-0.924664</td>\n",
       "      <td>-0.108197</td>\n",
       "      <td>0.044568</td>\n",
       "      <td>0.069608</td>\n",
       "      <td>0.099773</td>\n",
       "      <td>0.055310</td>\n",
       "      <td>-0.015176</td>\n",
       "      <td>-0.045967</td>\n",
       "    </tr>\n",
       "    <tr>\n",
       "      <th>latitude</th>\n",
       "      <td>-0.924664</td>\n",
       "      <td>1.000000</td>\n",
       "      <td>0.011173</td>\n",
       "      <td>-0.036100</td>\n",
       "      <td>-0.066983</td>\n",
       "      <td>-0.108785</td>\n",
       "      <td>-0.071035</td>\n",
       "      <td>-0.079809</td>\n",
       "      <td>-0.144160</td>\n",
       "    </tr>\n",
       "    <tr>\n",
       "      <th>housing_median_age</th>\n",
       "      <td>-0.108197</td>\n",
       "      <td>0.011173</td>\n",
       "      <td>1.000000</td>\n",
       "      <td>-0.361262</td>\n",
       "      <td>-0.320451</td>\n",
       "      <td>-0.296244</td>\n",
       "      <td>-0.302916</td>\n",
       "      <td>-0.119034</td>\n",
       "      <td>0.105623</td>\n",
       "    </tr>\n",
       "    <tr>\n",
       "      <th>total_rooms</th>\n",
       "      <td>0.044568</td>\n",
       "      <td>-0.036100</td>\n",
       "      <td>-0.361262</td>\n",
       "      <td>1.000000</td>\n",
       "      <td>0.930380</td>\n",
       "      <td>0.857126</td>\n",
       "      <td>0.918484</td>\n",
       "      <td>0.198050</td>\n",
       "      <td>0.134153</td>\n",
       "    </tr>\n",
       "    <tr>\n",
       "      <th>total_bedrooms</th>\n",
       "      <td>0.069608</td>\n",
       "      <td>-0.066983</td>\n",
       "      <td>-0.320451</td>\n",
       "      <td>0.930380</td>\n",
       "      <td>1.000000</td>\n",
       "      <td>0.877747</td>\n",
       "      <td>0.979728</td>\n",
       "      <td>-0.007723</td>\n",
       "      <td>0.049686</td>\n",
       "    </tr>\n",
       "    <tr>\n",
       "      <th>population</th>\n",
       "      <td>0.099773</td>\n",
       "      <td>-0.108785</td>\n",
       "      <td>-0.296244</td>\n",
       "      <td>0.857126</td>\n",
       "      <td>0.877747</td>\n",
       "      <td>1.000000</td>\n",
       "      <td>0.907222</td>\n",
       "      <td>0.004834</td>\n",
       "      <td>-0.024650</td>\n",
       "    </tr>\n",
       "    <tr>\n",
       "      <th>households</th>\n",
       "      <td>0.055310</td>\n",
       "      <td>-0.071035</td>\n",
       "      <td>-0.302916</td>\n",
       "      <td>0.918484</td>\n",
       "      <td>0.979728</td>\n",
       "      <td>0.907222</td>\n",
       "      <td>1.000000</td>\n",
       "      <td>0.013033</td>\n",
       "      <td>0.065843</td>\n",
       "    </tr>\n",
       "    <tr>\n",
       "      <th>median_income</th>\n",
       "      <td>-0.015176</td>\n",
       "      <td>-0.079809</td>\n",
       "      <td>-0.119034</td>\n",
       "      <td>0.198050</td>\n",
       "      <td>-0.007723</td>\n",
       "      <td>0.004834</td>\n",
       "      <td>0.013033</td>\n",
       "      <td>1.000000</td>\n",
       "      <td>0.688075</td>\n",
       "    </tr>\n",
       "    <tr>\n",
       "      <th>median_house_value</th>\n",
       "      <td>-0.045967</td>\n",
       "      <td>-0.144160</td>\n",
       "      <td>0.105623</td>\n",
       "      <td>0.134153</td>\n",
       "      <td>0.049686</td>\n",
       "      <td>-0.024650</td>\n",
       "      <td>0.065843</td>\n",
       "      <td>0.688075</td>\n",
       "      <td>1.000000</td>\n",
       "    </tr>\n",
       "  </tbody>\n",
       "</table>\n",
       "</div>"
      ],
      "text/plain": [
       "                    longitude  latitude  housing_median_age  total_rooms  \\\n",
       "longitude            1.000000 -0.924664           -0.108197     0.044568   \n",
       "latitude            -0.924664  1.000000            0.011173    -0.036100   \n",
       "housing_median_age  -0.108197  0.011173            1.000000    -0.361262   \n",
       "total_rooms          0.044568 -0.036100           -0.361262     1.000000   \n",
       "total_bedrooms       0.069608 -0.066983           -0.320451     0.930380   \n",
       "population           0.099773 -0.108785           -0.296244     0.857126   \n",
       "households           0.055310 -0.071035           -0.302916     0.918484   \n",
       "median_income       -0.015176 -0.079809           -0.119034     0.198050   \n",
       "median_house_value  -0.045967 -0.144160            0.105623     0.134153   \n",
       "\n",
       "                    total_bedrooms  population  households  median_income  \\\n",
       "longitude                 0.069608    0.099773    0.055310      -0.015176   \n",
       "latitude                 -0.066983   -0.108785   -0.071035      -0.079809   \n",
       "housing_median_age       -0.320451   -0.296244   -0.302916      -0.119034   \n",
       "total_rooms               0.930380    0.857126    0.918484       0.198050   \n",
       "total_bedrooms            1.000000    0.877747    0.979728      -0.007723   \n",
       "population                0.877747    1.000000    0.907222       0.004834   \n",
       "households                0.979728    0.907222    1.000000       0.013033   \n",
       "median_income            -0.007723    0.004834    0.013033       1.000000   \n",
       "median_house_value        0.049686   -0.024650    0.065843       0.688075   \n",
       "\n",
       "                    median_house_value  \n",
       "longitude                    -0.045967  \n",
       "latitude                     -0.144160  \n",
       "housing_median_age            0.105623  \n",
       "total_rooms                   0.134153  \n",
       "total_bedrooms                0.049686  \n",
       "population                   -0.024650  \n",
       "households                    0.065843  \n",
       "median_income                 0.688075  \n",
       "median_house_value            1.000000  "
      ]
     },
     "execution_count": 6,
     "metadata": {},
     "output_type": "execute_result"
    }
   ],
   "source": [
    "housing.corr()"
   ]
  },
  {
   "cell_type": "markdown",
   "id": "b5f752c8",
   "metadata": {
    "heading_collapsed": true
   },
   "source": [
    "# Splitting Data Into Train And Test"
   ]
  },
  {
   "cell_type": "markdown",
   "id": "b52162b4",
   "metadata": {
    "hidden": true
   },
   "source": [
    "As we can see from the above table the most effective predictor of **median house value** is **median income**\n",
    "So I will split the data with respect to this predictor to make sure the train and test sets fully cover the whole dataset."
   ]
  },
  {
   "cell_type": "code",
   "execution_count": 7,
   "id": "b6e07eaf",
   "metadata": {
    "hidden": true
   },
   "outputs": [],
   "source": [
    "housing['income_cat'] = pd.cut(housing['median_income'],\n",
    "                              bins=[0.0, 1.5, 3.0, 4.5, 6.0, np.inf],\n",
    "                              labels=[1, 2, 3, 4, 5])\n",
    "\n",
    "spliter = StratifiedShuffleSplit(n_splits=1, test_size=0.2, random_state=42)\n",
    "for train_index, test_index in spliter.split(housing, housing['income_cat']):\n",
    "    train_stra = housing.loc[train_index]\n",
    "    test_stra = housing.loc[test_index]"
   ]
  },
  {
   "cell_type": "code",
   "execution_count": 8,
   "id": "68c064db",
   "metadata": {
    "hidden": true
   },
   "outputs": [
    {
     "name": "stdout",
     "output_type": "stream",
     "text": [
      "<class 'pandas.core.frame.DataFrame'>\n",
      "Int64Index: 16512 entries, 12655 to 19773\n",
      "Data columns (total 11 columns):\n",
      " #   Column              Non-Null Count  Dtype   \n",
      "---  ------              --------------  -----   \n",
      " 0   longitude           16512 non-null  float64 \n",
      " 1   latitude            16512 non-null  float64 \n",
      " 2   housing_median_age  16512 non-null  float64 \n",
      " 3   total_rooms         16512 non-null  float64 \n",
      " 4   total_bedrooms      16354 non-null  float64 \n",
      " 5   population          16512 non-null  float64 \n",
      " 6   households          16512 non-null  float64 \n",
      " 7   median_income       16512 non-null  float64 \n",
      " 8   median_house_value  16512 non-null  float64 \n",
      " 9   ocean_proximity     16512 non-null  object  \n",
      " 10  income_cat          16512 non-null  category\n",
      "dtypes: category(1), float64(9), object(1)\n",
      "memory usage: 1.4+ MB\n"
     ]
    }
   ],
   "source": [
    "train_stra.info()"
   ]
  },
  {
   "cell_type": "code",
   "execution_count": 9,
   "id": "a4222818",
   "metadata": {
    "hidden": true
   },
   "outputs": [
    {
     "name": "stdout",
     "output_type": "stream",
     "text": [
      "<class 'pandas.core.frame.DataFrame'>\n",
      "Int64Index: 4128 entries, 5241 to 3965\n",
      "Data columns (total 11 columns):\n",
      " #   Column              Non-Null Count  Dtype   \n",
      "---  ------              --------------  -----   \n",
      " 0   longitude           4128 non-null   float64 \n",
      " 1   latitude            4128 non-null   float64 \n",
      " 2   housing_median_age  4128 non-null   float64 \n",
      " 3   total_rooms         4128 non-null   float64 \n",
      " 4   total_bedrooms      4079 non-null   float64 \n",
      " 5   population          4128 non-null   float64 \n",
      " 6   households          4128 non-null   float64 \n",
      " 7   median_income       4128 non-null   float64 \n",
      " 8   median_house_value  4128 non-null   float64 \n",
      " 9   ocean_proximity     4128 non-null   object  \n",
      " 10  income_cat          4128 non-null   category\n",
      "dtypes: category(1), float64(9), object(1)\n",
      "memory usage: 359.0+ KB\n"
     ]
    }
   ],
   "source": [
    "test_stra.info()"
   ]
  },
  {
   "cell_type": "markdown",
   "id": "218659f9",
   "metadata": {
    "hidden": true
   },
   "source": [
    "## Removing Unneeded column"
   ]
  },
  {
   "cell_type": "code",
   "execution_count": 10,
   "id": "2b8af8e7",
   "metadata": {
    "hidden": true
   },
   "outputs": [],
   "source": [
    "train_stra.drop('income_cat', axis=1, inplace=True)\n",
    "test_stra.drop('income_cat', axis=1, inplace=True)"
   ]
  },
  {
   "cell_type": "markdown",
   "id": "3df8054a",
   "metadata": {
    "heading_collapsed": true
   },
   "source": [
    "# Removing Target column"
   ]
  },
  {
   "cell_type": "code",
   "execution_count": 11,
   "id": "bff5bb57",
   "metadata": {
    "hidden": true
   },
   "outputs": [],
   "source": [
    "train = train_stra.drop('median_house_value', axis=1)\n",
    "train_label = train_stra['median_house_value']\n",
    "test = test_stra.drop('median_house_value', axis=1)\n",
    "test_label = test_stra['median_house_value']"
   ]
  },
  {
   "cell_type": "markdown",
   "id": "b0dc87b2",
   "metadata": {
    "heading_collapsed": true
   },
   "source": [
    "# Data Preprocessing"
   ]
  },
  {
   "cell_type": "markdown",
   "id": "a3031ef5",
   "metadata": {
    "heading_collapsed": true,
    "hidden": true
   },
   "source": [
    "## Numerical  and  Categorical Attributes"
   ]
  },
  {
   "cell_type": "code",
   "execution_count": 12,
   "id": "4f49b021",
   "metadata": {
    "hidden": true
   },
   "outputs": [],
   "source": [
    "num_pipeline = Pipeline([\n",
    "    (\"imputer\", SimpleImputer(strategy=\"median\")),# Handling missing values in 'total bedrooms' column\n",
    "    (\"std_scaler\", StandardScaler()) #feature scaling\n",
    "])"
   ]
  },
  {
   "cell_type": "code",
   "execution_count": 13,
   "id": "8e55977b",
   "metadata": {
    "hidden": true
   },
   "outputs": [],
   "source": [
    "num_attr = ['longitude', 'latitude', 'housing_median_age', 'total_rooms',\n",
    "       'total_bedrooms', 'population', 'households', 'median_income']\n",
    "cat_attr = ['ocean_proximity']\n",
    "\n",
    "data_transformer = ColumnTransformer([\n",
    "    ('num', num_pipeline, num_attr),\n",
    "    ('cat', OneHotEncoder(), cat_attr) # Encoding categorical data\n",
    "])"
   ]
  },
  {
   "cell_type": "markdown",
   "id": "3e6ac9d6",
   "metadata": {
    "hidden": true
   },
   "source": [
    "## Transform Data"
   ]
  },
  {
   "cell_type": "code",
   "execution_count": 14,
   "id": "a1cc8729",
   "metadata": {
    "hidden": true
   },
   "outputs": [],
   "source": [
    "train_prepared = data_transformer.fit_transform(train)"
   ]
  },
  {
   "cell_type": "markdown",
   "id": "b94fe05d",
   "metadata": {
    "hidden": true
   },
   "source": [
    "Now the data is ready to feed into the model"
   ]
  },
  {
   "cell_type": "markdown",
   "id": "9ee86ecb",
   "metadata": {},
   "source": [
    "# Select and Train a Model"
   ]
  },
  {
   "cell_type": "markdown",
   "id": "936f3edf",
   "metadata": {
    "heading_collapsed": true
   },
   "source": [
    "## Experiment 1 (Linear Regression)"
   ]
  },
  {
   "cell_type": "code",
   "execution_count": 15,
   "id": "d1167816",
   "metadata": {
    "hidden": true
   },
   "outputs": [
    {
     "data": {
      "text/plain": [
       "LinearRegression()"
      ]
     },
     "execution_count": 15,
     "metadata": {},
     "output_type": "execute_result"
    }
   ],
   "source": [
    "lin_reg = LinearRegression()\n",
    "lin_reg.fit(train_prepared, train_label)"
   ]
  },
  {
   "cell_type": "code",
   "execution_count": 16,
   "id": "485b78bb",
   "metadata": {
    "hidden": true
   },
   "outputs": [
    {
     "name": "stdout",
     "output_type": "stream",
     "text": [
      "Linear Regression Training RMSE is: 47256.69622864763\n"
     ]
    }
   ],
   "source": [
    "some_data = train.iloc[:5]\n",
    "some_labels = train_label.iloc[:5]\n",
    "some_data_prepared = data_transformer.transform(some_data)\n",
    "lin_pred = lin_reg.predict(some_data_prepared)\n",
    "lin_reg_mse = mean_squared_error(some_labels,lin_pred )\n",
    "lin_reg_rmse = np.sqrt(lin_reg_mse)\n",
    "print(f\"Linear Regression Training RMSE is: {lin_reg_rmse}\")"
   ]
  },
  {
   "cell_type": "markdown",
   "id": "b269fc45",
   "metadata": {
    "hidden": true
   },
   "source": [
    "### Evaluating The Model"
   ]
  },
  {
   "cell_type": "code",
   "execution_count": 19,
   "id": "4cf3197e",
   "metadata": {
    "hidden": true
   },
   "outputs": [
    {
     "name": "stdout",
     "output_type": "stream",
     "text": [
      "Linear Regression Validation RMSE is: 69204.32275494766\n"
     ]
    }
   ],
   "source": [
    "scores_lin = cross_val_score(lin_reg, train_prepared, train_label,\n",
    "                        cv=10, scoring='neg_mean_squared_error')\n",
    "lin_reg_rmse_score = np.sqrt(-scores_lin)\n",
    "print(f\"Linear Regression Validation RMSE is: {lin_reg_rmse_score.mean()}\")"
   ]
  },
  {
   "cell_type": "markdown",
   "id": "96e0849f",
   "metadata": {
    "hidden": true
   },
   "source": [
    "As we can see the validation **RMSE** is greater than the training one.\n",
    "This model is **underfitting** the data."
   ]
  },
  {
   "cell_type": "markdown",
   "id": "c075edf9",
   "metadata": {
    "hidden": true
   },
   "source": [
    "### Saving The Model"
   ]
  },
  {
   "cell_type": "code",
   "execution_count": 25,
   "id": "c75a9491",
   "metadata": {
    "hidden": true
   },
   "outputs": [
    {
     "data": {
      "text/plain": [
       "['linear.pkl']"
      ]
     },
     "execution_count": 25,
     "metadata": {},
     "output_type": "execute_result"
    }
   ],
   "source": [
    "joblib.dump(lin_reg, \"linear.pkl\")"
   ]
  },
  {
   "cell_type": "markdown",
   "id": "8cbf77f3",
   "metadata": {
    "heading_collapsed": true
   },
   "source": [
    "## Experiment 2 (Decision Tree)"
   ]
  },
  {
   "cell_type": "code",
   "execution_count": 20,
   "id": "6aaadf88",
   "metadata": {
    "hidden": true
   },
   "outputs": [
    {
     "name": "stdout",
     "output_type": "stream",
     "text": [
      "Decision Tree Training RMSE is: 19255.729538428423\n"
     ]
    }
   ],
   "source": [
    "tree_reg = DecisionTreeRegressor(max_depth=6)\n",
    "tree_reg.fit(train_prepared, train_label)\n",
    "tree_pred = tree_reg.predict(some_data_prepared)\n",
    "tree_reg_mse = mean_squared_error(some_labels, tree_pred)\n",
    "tree_reg_rmse = np.sqrt(tree_reg_mse)\n",
    "print(f\"Decision Tree Training RMSE is: {tree_reg_rmse}\")"
   ]
  },
  {
   "cell_type": "markdown",
   "id": "b824f5f9",
   "metadata": {
    "hidden": true
   },
   "source": [
    "### Evaluating The Model"
   ]
  },
  {
   "cell_type": "code",
   "execution_count": 21,
   "id": "0dac24db",
   "metadata": {
    "hidden": true
   },
   "outputs": [
    {
     "name": "stdout",
     "output_type": "stream",
     "text": [
      "Decision Tree Validation RMSE is: 67967.72782592665\n"
     ]
    }
   ],
   "source": [
    "scores_tree = cross_val_score(tree_reg, train_prepared, train_label,\n",
    "                        cv=10, scoring='neg_mean_squared_error')\n",
    "tree_rmse_score = np.sqrt(-scores_tree)\n",
    "print(f\"Decision Tree Validation RMSE is: {tree_rmse_score.mean()}\")"
   ]
  },
  {
   "cell_type": "markdown",
   "id": "0e1eb23d",
   "metadata": {
    "hidden": true
   },
   "source": [
    "As we can see the training **RMSE** is good but the validation is very bad.\n",
    "This model is **overfitting** the data."
   ]
  },
  {
   "cell_type": "markdown",
   "id": "28e2cc05",
   "metadata": {
    "hidden": true
   },
   "source": [
    "### Saving The Model"
   ]
  },
  {
   "cell_type": "code",
   "execution_count": 26,
   "id": "3a0b8b3a",
   "metadata": {
    "hidden": true
   },
   "outputs": [
    {
     "data": {
      "text/plain": [
       "['tree.pkl']"
      ]
     },
     "execution_count": 26,
     "metadata": {},
     "output_type": "execute_result"
    }
   ],
   "source": [
    "joblib.dump(tree_reg, \"tree.pkl\")"
   ]
  },
  {
   "cell_type": "markdown",
   "id": "fadffafe",
   "metadata": {},
   "source": [
    "## Experiment 3 (Random Forest)"
   ]
  },
  {
   "cell_type": "code",
   "execution_count": 23,
   "id": "a2b04442",
   "metadata": {},
   "outputs": [
    {
     "name": "stdout",
     "output_type": "stream",
     "text": [
      "Random Forest Training RMSE is: 9937.379684806252\n"
     ]
    }
   ],
   "source": [
    "forest_reg = RandomForestRegressor(n_estimators=40, max_features=9)\n",
    "forest_reg.fit(train_prepared, train_label)\n",
    "forest_pred = forest_reg.predict(some_data_prepared)\n",
    "forest_reg_mse = mean_squared_error(some_labels, forest_pred)\n",
    "forest_reg_rmse = np.sqrt(forest_reg_mse)\n",
    "print(f\"Random Forest Training RMSE is: {forest_reg_rmse}\")"
   ]
  },
  {
   "cell_type": "markdown",
   "id": "e77ed788",
   "metadata": {},
   "source": [
    "### Evaluating The Model"
   ]
  },
  {
   "cell_type": "code",
   "execution_count": 24,
   "id": "b2a6e2e2",
   "metadata": {},
   "outputs": [
    {
     "name": "stdout",
     "output_type": "stream",
     "text": [
      "Random Forest Validation RMSE is: 49186.59346557298\n"
     ]
    }
   ],
   "source": [
    "scores_forest = cross_val_score(forest_reg, train_prepared, train_label,\n",
    "                        cv=10, scoring='neg_mean_squared_error')\n",
    "forest_rmse_score = np.sqrt(-scores_forest)\n",
    "print(f\"Random Forest Validation RMSE is: {forest_rmse_score.mean()}\")"
   ]
  },
  {
   "cell_type": "markdown",
   "id": "9abfac78",
   "metadata": {},
   "source": [
    "That's it!"
   ]
  },
  {
   "cell_type": "markdown",
   "id": "0c6dc179",
   "metadata": {},
   "source": [
    "# Deploying The Model"
   ]
  },
  {
   "cell_type": "code",
   "execution_count": 29,
   "id": "d1a43af7",
   "metadata": {},
   "outputs": [],
   "source": [
    "def prediction(properties):\n",
    "    df = pd.DataFrame(properties, columns=train.columns)\n",
    "    preparations = data_transformer.transform(df)\n",
    "    return forest_reg.predict(preparations)"
   ]
  },
  {
   "cell_type": "code",
   "execution_count": 50,
   "id": "e753c0d4",
   "metadata": {},
   "outputs": [
    {
     "name": "stdout",
     "output_type": "stream",
     "text": [
      "Running on local URL:  http://127.0.0.1:7868\n",
      "\n",
      "To create a public link, set `share=True` in `launch()`.\n"
     ]
    },
    {
     "data": {
      "text/html": [
       "<div><iframe src=\"http://127.0.0.1:7868/\" width=\"100%\" height=\"500\" allow=\"autoplay; camera; microphone; clipboard-read; clipboard-write;\" frameborder=\"0\" allowfullscreen></iframe></div>"
      ],
      "text/plain": [
       "<IPython.core.display.HTML object>"
      ]
     },
     "metadata": {},
     "output_type": "display_data"
    },
    {
     "data": {
      "text/plain": []
     },
     "execution_count": 50,
     "metadata": {},
     "output_type": "execute_result"
    },
    {
     "name": "stderr",
     "output_type": "stream",
     "text": [
      "Traceback (most recent call last):\n",
      "  File \"/home/abdelrahman/anaconda3/lib/python3.9/site-packages/gradio/routes.py\", line 292, in run_predict\n",
      "    output = await app.blocks.process_api(\n",
      "  File \"/home/abdelrahman/anaconda3/lib/python3.9/site-packages/gradio/blocks.py\", line 1007, in process_api\n",
      "    result = await self.call_function(fn_index, inputs, iterator, request)\n",
      "  File \"/home/abdelrahman/anaconda3/lib/python3.9/site-packages/gradio/blocks.py\", line 848, in call_function\n",
      "    prediction = await anyio.to_thread.run_sync(\n",
      "  File \"/home/abdelrahman/anaconda3/lib/python3.9/site-packages/anyio/to_thread.py\", line 28, in run_sync\n",
      "    return await get_asynclib().run_sync_in_worker_thread(func, *args, cancellable=cancellable,\n",
      "  File \"/home/abdelrahman/anaconda3/lib/python3.9/site-packages/anyio/_backends/_asyncio.py\", line 818, in run_sync_in_worker_thread\n",
      "    return await future\n",
      "  File \"/home/abdelrahman/anaconda3/lib/python3.9/site-packages/anyio/_backends/_asyncio.py\", line 754, in run\n",
      "    result = context.run(func, *args)\n",
      "  File \"/tmp/ipykernel_4951/3848169684.py\", line 3, in prediction\n",
      "    preparations = data_transformer.transform(df)\n",
      "  File \"/home/abdelrahman/anaconda3/lib/python3.9/site-packages/sklearn/compose/_column_transformer.py\", line 748, in transform\n",
      "    Xs = self._fit_transform(\n",
      "  File \"/home/abdelrahman/anaconda3/lib/python3.9/site-packages/sklearn/compose/_column_transformer.py\", line 606, in _fit_transform\n",
      "    return Parallel(n_jobs=self.n_jobs)(\n",
      "  File \"/home/abdelrahman/anaconda3/lib/python3.9/site-packages/joblib/parallel.py\", line 1048, in __call__\n",
      "    if self.dispatch_one_batch(iterator):\n",
      "  File \"/home/abdelrahman/anaconda3/lib/python3.9/site-packages/joblib/parallel.py\", line 864, in dispatch_one_batch\n",
      "    self._dispatch(tasks)\n",
      "  File \"/home/abdelrahman/anaconda3/lib/python3.9/site-packages/joblib/parallel.py\", line 782, in _dispatch\n",
      "    job = self._backend.apply_async(batch, callback=cb)\n",
      "  File \"/home/abdelrahman/anaconda3/lib/python3.9/site-packages/joblib/_parallel_backends.py\", line 208, in apply_async\n",
      "    result = ImmediateResult(func)\n",
      "  File \"/home/abdelrahman/anaconda3/lib/python3.9/site-packages/joblib/_parallel_backends.py\", line 572, in __init__\n",
      "    self.results = batch()\n",
      "  File \"/home/abdelrahman/anaconda3/lib/python3.9/site-packages/joblib/parallel.py\", line 263, in __call__\n",
      "    return [func(*args, **kwargs)\n",
      "  File \"/home/abdelrahman/anaconda3/lib/python3.9/site-packages/joblib/parallel.py\", line 263, in <listcomp>\n",
      "    return [func(*args, **kwargs)\n",
      "  File \"/home/abdelrahman/anaconda3/lib/python3.9/site-packages/sklearn/utils/fixes.py\", line 216, in __call__\n",
      "    return self.function(*args, **kwargs)\n",
      "  File \"/home/abdelrahman/anaconda3/lib/python3.9/site-packages/sklearn/pipeline.py\", line 876, in _transform_one\n",
      "    res = transformer.transform(X)\n",
      "  File \"/home/abdelrahman/anaconda3/lib/python3.9/site-packages/sklearn/utils/metaestimators.py\", line 113, in <lambda>\n",
      "    out = lambda *args, **kwargs: self.fn(obj, *args, **kwargs)  # noqa\n",
      "  File \"/home/abdelrahman/anaconda3/lib/python3.9/site-packages/sklearn/pipeline.py\", line 647, in transform\n",
      "    Xt = transform.transform(Xt)\n",
      "  File \"/home/abdelrahman/anaconda3/lib/python3.9/site-packages/sklearn/impute/_base.py\", line 470, in transform\n",
      "    X = self._validate_input(X, in_fit=False)\n",
      "  File \"/home/abdelrahman/anaconda3/lib/python3.9/site-packages/sklearn/impute/_base.py\", line 285, in _validate_input\n",
      "    raise new_ve from None\n",
      "ValueError: Cannot use median strategy with non-numeric data:\n",
      "could not convert string to float: ''\n",
      "Traceback (most recent call last):\n",
      "  File \"/home/abdelrahman/anaconda3/lib/python3.9/site-packages/gradio/routes.py\", line 292, in run_predict\n",
      "    output = await app.blocks.process_api(\n",
      "  File \"/home/abdelrahman/anaconda3/lib/python3.9/site-packages/gradio/blocks.py\", line 1007, in process_api\n",
      "    result = await self.call_function(fn_index, inputs, iterator, request)\n",
      "  File \"/home/abdelrahman/anaconda3/lib/python3.9/site-packages/gradio/blocks.py\", line 848, in call_function\n",
      "    prediction = await anyio.to_thread.run_sync(\n",
      "  File \"/home/abdelrahman/anaconda3/lib/python3.9/site-packages/anyio/to_thread.py\", line 28, in run_sync\n",
      "    return await get_asynclib().run_sync_in_worker_thread(func, *args, cancellable=cancellable,\n",
      "  File \"/home/abdelrahman/anaconda3/lib/python3.9/site-packages/anyio/_backends/_asyncio.py\", line 818, in run_sync_in_worker_thread\n",
      "    return await future\n",
      "  File \"/home/abdelrahman/anaconda3/lib/python3.9/site-packages/anyio/_backends/_asyncio.py\", line 754, in run\n",
      "    result = context.run(func, *args)\n",
      "  File \"/tmp/ipykernel_4951/3848169684.py\", line 3, in prediction\n",
      "    preparations = data_transformer.transform(df)\n",
      "  File \"/home/abdelrahman/anaconda3/lib/python3.9/site-packages/sklearn/compose/_column_transformer.py\", line 748, in transform\n",
      "    Xs = self._fit_transform(\n",
      "  File \"/home/abdelrahman/anaconda3/lib/python3.9/site-packages/sklearn/compose/_column_transformer.py\", line 606, in _fit_transform\n",
      "    return Parallel(n_jobs=self.n_jobs)(\n",
      "  File \"/home/abdelrahman/anaconda3/lib/python3.9/site-packages/joblib/parallel.py\", line 1048, in __call__\n",
      "    if self.dispatch_one_batch(iterator):\n",
      "  File \"/home/abdelrahman/anaconda3/lib/python3.9/site-packages/joblib/parallel.py\", line 864, in dispatch_one_batch\n",
      "    self._dispatch(tasks)\n",
      "  File \"/home/abdelrahman/anaconda3/lib/python3.9/site-packages/joblib/parallel.py\", line 782, in _dispatch\n",
      "    job = self._backend.apply_async(batch, callback=cb)\n",
      "  File \"/home/abdelrahman/anaconda3/lib/python3.9/site-packages/joblib/_parallel_backends.py\", line 208, in apply_async\n",
      "    result = ImmediateResult(func)\n",
      "  File \"/home/abdelrahman/anaconda3/lib/python3.9/site-packages/joblib/_parallel_backends.py\", line 572, in __init__\n",
      "    self.results = batch()\n",
      "  File \"/home/abdelrahman/anaconda3/lib/python3.9/site-packages/joblib/parallel.py\", line 263, in __call__\n",
      "    return [func(*args, **kwargs)\n",
      "  File \"/home/abdelrahman/anaconda3/lib/python3.9/site-packages/joblib/parallel.py\", line 263, in <listcomp>\n",
      "    return [func(*args, **kwargs)\n",
      "  File \"/home/abdelrahman/anaconda3/lib/python3.9/site-packages/sklearn/utils/fixes.py\", line 216, in __call__\n",
      "    return self.function(*args, **kwargs)\n",
      "  File \"/home/abdelrahman/anaconda3/lib/python3.9/site-packages/sklearn/pipeline.py\", line 876, in _transform_one\n",
      "    res = transformer.transform(X)\n",
      "  File \"/home/abdelrahman/anaconda3/lib/python3.9/site-packages/sklearn/utils/metaestimators.py\", line 113, in <lambda>\n",
      "    out = lambda *args, **kwargs: self.fn(obj, *args, **kwargs)  # noqa\n",
      "  File \"/home/abdelrahman/anaconda3/lib/python3.9/site-packages/sklearn/pipeline.py\", line 647, in transform\n",
      "    Xt = transform.transform(Xt)\n",
      "  File \"/home/abdelrahman/anaconda3/lib/python3.9/site-packages/sklearn/impute/_base.py\", line 470, in transform\n",
      "    X = self._validate_input(X, in_fit=False)\n",
      "  File \"/home/abdelrahman/anaconda3/lib/python3.9/site-packages/sklearn/impute/_base.py\", line 285, in _validate_input\n",
      "    raise new_ve from None\n",
      "ValueError: Cannot use median strategy with non-numeric data:\n",
      "could not convert string to float: ''\n",
      "Traceback (most recent call last):\n",
      "  File \"/home/abdelrahman/anaconda3/lib/python3.9/site-packages/gradio/routes.py\", line 292, in run_predict\n",
      "    output = await app.blocks.process_api(\n",
      "  File \"/home/abdelrahman/anaconda3/lib/python3.9/site-packages/gradio/blocks.py\", line 1007, in process_api\n",
      "    result = await self.call_function(fn_index, inputs, iterator, request)\n",
      "  File \"/home/abdelrahman/anaconda3/lib/python3.9/site-packages/gradio/blocks.py\", line 848, in call_function\n",
      "    prediction = await anyio.to_thread.run_sync(\n",
      "  File \"/home/abdelrahman/anaconda3/lib/python3.9/site-packages/anyio/to_thread.py\", line 28, in run_sync\n",
      "    return await get_asynclib().run_sync_in_worker_thread(func, *args, cancellable=cancellable,\n",
      "  File \"/home/abdelrahman/anaconda3/lib/python3.9/site-packages/anyio/_backends/_asyncio.py\", line 818, in run_sync_in_worker_thread\n",
      "    return await future\n",
      "  File \"/home/abdelrahman/anaconda3/lib/python3.9/site-packages/anyio/_backends/_asyncio.py\", line 754, in run\n",
      "    result = context.run(func, *args)\n",
      "  File \"/tmp/ipykernel_4951/3848169684.py\", line 3, in prediction\n",
      "    preparations = data_transformer.transform(df)\n",
      "  File \"/home/abdelrahman/anaconda3/lib/python3.9/site-packages/sklearn/compose/_column_transformer.py\", line 748, in transform\n",
      "    Xs = self._fit_transform(\n",
      "  File \"/home/abdelrahman/anaconda3/lib/python3.9/site-packages/sklearn/compose/_column_transformer.py\", line 606, in _fit_transform\n",
      "    return Parallel(n_jobs=self.n_jobs)(\n",
      "  File \"/home/abdelrahman/anaconda3/lib/python3.9/site-packages/joblib/parallel.py\", line 1051, in __call__\n",
      "    while self.dispatch_one_batch(iterator):\n",
      "  File \"/home/abdelrahman/anaconda3/lib/python3.9/site-packages/joblib/parallel.py\", line 864, in dispatch_one_batch\n",
      "    self._dispatch(tasks)\n",
      "  File \"/home/abdelrahman/anaconda3/lib/python3.9/site-packages/joblib/parallel.py\", line 782, in _dispatch\n",
      "    job = self._backend.apply_async(batch, callback=cb)\n",
      "  File \"/home/abdelrahman/anaconda3/lib/python3.9/site-packages/joblib/_parallel_backends.py\", line 208, in apply_async\n",
      "    result = ImmediateResult(func)\n",
      "  File \"/home/abdelrahman/anaconda3/lib/python3.9/site-packages/joblib/_parallel_backends.py\", line 572, in __init__\n",
      "    self.results = batch()\n",
      "  File \"/home/abdelrahman/anaconda3/lib/python3.9/site-packages/joblib/parallel.py\", line 263, in __call__\n",
      "    return [func(*args, **kwargs)\n",
      "  File \"/home/abdelrahman/anaconda3/lib/python3.9/site-packages/joblib/parallel.py\", line 263, in <listcomp>\n",
      "    return [func(*args, **kwargs)\n",
      "  File \"/home/abdelrahman/anaconda3/lib/python3.9/site-packages/sklearn/utils/fixes.py\", line 216, in __call__\n",
      "    return self.function(*args, **kwargs)\n",
      "  File \"/home/abdelrahman/anaconda3/lib/python3.9/site-packages/sklearn/pipeline.py\", line 876, in _transform_one\n",
      "    res = transformer.transform(X)\n",
      "  File \"/home/abdelrahman/anaconda3/lib/python3.9/site-packages/sklearn/preprocessing/_encoders.py\", line 509, in transform\n",
      "    X_int, X_mask = self._transform(\n",
      "  File \"/home/abdelrahman/anaconda3/lib/python3.9/site-packages/sklearn/preprocessing/_encoders.py\", line 142, in _transform\n",
      "    raise ValueError(msg)\n",
      "ValueError: Found unknown categories ['inland'] in column 0 during transform\n"
     ]
    }
   ],
   "source": [
    "demo = gr.Interface(\n",
    "    prediction,\n",
    "    [\n",
    "        gr.Dataframe(\n",
    "            headers=[\"longitude\", \"latitude\", \"housing_median_age\", \"total_rooms\", \"total_bedrooms\",\n",
    "                     \"population\", \"households\", \"median_income\", \"ocean_proximity\"],\n",
    "            datatype=[\"number\", \"number\", \"number\", \"number\", \"number\", \"number\", \"number\", \"number\", \"str\"],\n",
    "            row_count=1,\n",
    "            col_count=(9, \"fixed\"),\n",
    "        )\n",
    "        \n",
    "    ],\n",
    "    \"number\",\n",
    "    description=\"Enter The Properties Of The Home\",\n",
    "    title=\"California Housing Prices Prediction\",\n",
    "   # examples=[-121.46, 38.52, 29.0, 3873.0, 797.0, 2237.0, 706.0, 2.1736, 'INLAND'],\n",
    "    \n",
    "\n",
    ")\n",
    "\n",
    "demo.launch()\n"
   ]
  },
  {
   "cell_type": "code",
   "execution_count": null,
   "id": "38b2f7b7",
   "metadata": {},
   "outputs": [],
   "source": []
  }
 ],
 "metadata": {
  "kernelspec": {
   "display_name": "Python 3 (ipykernel)",
   "language": "python",
   "name": "python3"
  },
  "language_info": {
   "codemirror_mode": {
    "name": "ipython",
    "version": 3
   },
   "file_extension": ".py",
   "mimetype": "text/x-python",
   "name": "python",
   "nbconvert_exporter": "python",
   "pygments_lexer": "ipython3",
   "version": "3.9.12"
  }
 },
 "nbformat": 4,
 "nbformat_minor": 5
}
